{
 "cells": [
  {
   "cell_type": "markdown",
   "metadata": {},
   "source": [
    "# 03 Models\n",
    "---"
   ]
  },
  {
   "cell_type": "code",
   "execution_count": 1,
   "metadata": {},
   "outputs": [],
   "source": [
    "# Import libraries\n",
    "import pandas as pd\n",
    "import numpy as np\n",
    "import matplotlib\n",
    "import matplotlib.pyplot as plt\n",
    "import seaborn as sns\n",
    "from scipy import stats\n",
    "from sklearn.preprocessing import KBinsDiscretizer\n",
    "import statsmodels.api as sm\n",
    "from statsmodels.iolib.summary2 import summary_col\n",
    "import matplotlib.patches as mpatches    \n",
    "import warnings\n",
    "import matplotlib.ticker as mtick\n",
    "import pandas as pd\n",
    "import numpy as np\n",
    "import matplotlib\n",
    "import matplotlib.pyplot as plt\n",
    "import matplotlib.ticker as mtick\n",
    "import seaborn as sns\n",
    "import scipy as sp\n",
    "from sklearn.metrics import mean_squared_error\n",
    "from sklearn.impute import SimpleImputer\n",
    "from sklearn.linear_model import BayesianRidge\n",
    "from sklearn.tree import DecisionTreeRegressor\n",
    "from sklearn.ensemble import ExtraTreesRegressor\n",
    "from sklearn.neighbors import KNeighborsRegressor\n",
    "from sklearn.model_selection import train_test_split\n",
    "from sklearn.metrics import mean_squared_error\n",
    "from sklearn import model_selection\n",
    "from sklearn.preprocessing import MinMaxScaler\n",
    "from sklearn.linear_model import LinearRegression\n",
    "from sklearn.linear_model import LogisticRegression\n",
    "from sklearn.linear_model import Lasso\n",
    "from tqdm import tqdm\n",
    "warnings.filterwarnings('ignore')\n",
    "from sklearn.model_selection import cross_val_score, KFold, StratifiedKFold,ShuffleSplit, cross_validate\n",
    "\n",
    "seed = 0"
   ]
  },
  {
   "cell_type": "code",
   "execution_count": 2,
   "metadata": {},
   "outputs": [],
   "source": [
    "train = pd.read_excel(\"df_02.xlsx\", index_col=0)\n",
    "test  = pd.read_excel(\"df_test_02.xlsx\", index_col=0)\n",
    "\n",
    "target = 'alcopops'"
   ]
  },
  {
   "cell_type": "code",
   "execution_count": 3,
   "metadata": {},
   "outputs": [],
   "source": [
    "x_train = train.drop(columns = target)\n",
    "y_train = train[target]\n",
    "\n",
    "# **********************\n",
    "\n",
    "x_test = test.drop(columns = target)\n",
    "y_test = test[target]"
   ]
  },
  {
   "cell_type": "markdown",
   "metadata": {},
   "source": [
    "# 1. Mandatory Models"
   ]
  },
  {
   "cell_type": "code",
   "execution_count": 4,
   "metadata": {},
   "outputs": [],
   "source": [
    "from sklearn.ensemble import RandomForestRegressor\n",
    "from sklearn.ensemble import AdaBoostRegressor\n",
    "from sklearn.ensemble import GradientBoostingRegressor\n",
    "from sklearn.metrics import mean_squared_error\n",
    "from sklearn.linear_model import ARDRegression\n",
    "from sklearn.linear_model import PassiveAggressiveRegressor\n",
    "from sklearn.linear_model import Ridge\n",
    "from sklearn.isotonic import IsotonicRegression\n",
    "from sklearn.neural_network.multilayer_perceptron import MLPRegressor\n",
    "from sklearn.gaussian_process.gpr import GaussianProcessRegressor"
   ]
  },
  {
   "cell_type": "code",
   "execution_count": 6,
   "metadata": {},
   "outputs": [],
   "source": [
    "n_jobs = -1\n",
    "models= [RandomForestRegressor(random_state=seed),\n",
    "         AdaBoostRegressor(random_state=seed),\n",
    "         GradientBoostingRegressor(random_state = seed),\n",
    "         LinearRegression(),\n",
    "         ARDRegression(),\n",
    "         PassiveAggressiveRegressor(random_state = seed),\n",
    "         Ridge(random_state = seed),\n",
    "         MLPRegressor(random_state=seed), GaussianProcessRegressor(random_state=seed)]\n",
    "\n",
    "\n",
    "# IsotonicRegression()"
   ]
  },
  {
   "cell_type": "code",
   "execution_count": 26,
   "metadata": {},
   "outputs": [
    {
     "name": "stderr",
     "output_type": "stream",
     "text": [
      "100%|██████████| 9/9 [00:09<00:00,  1.26s/it]\n"
     ]
    }
   ],
   "source": [
    "CV = 20\n",
    "cv_df = pd.DataFrame(index=range(CV * len(models)))\n",
    "score = 'neg_mean_squared_error'\n",
    "\n",
    "x = x_train.copy()\n",
    "y = y_train.copy()\n",
    "\n",
    "entries = []\n",
    "cv_df = pd.DataFrame()\n",
    "\n",
    "for model in tqdm(models):\n",
    "    \n",
    "    model_name = model.__class__.__name__\n",
    "    \n",
    "    accuracies = cross_val_score(model,x, y, scoring = score, cv=CV)\n",
    "   \n",
    "    for fold_idx, accuracy in enumerate(accuracies):\n",
    "        entries.append((model_name, fold_idx, accuracy))\n",
    "\n",
    "_ = pd.DataFrame(entries, columns=['model', 'fold_idx', score])\n",
    "cv_df['error'] = _.groupby('model')[score].agg('mean')"
   ]
  },
  {
   "cell_type": "code",
   "execution_count": 21,
   "metadata": {},
   "outputs": [
    {
     "name": "stderr",
     "output_type": "stream",
     "text": [
      "100%|██████████| 9/9 [00:07<00:00,  1.02it/s]\n",
      "100%|██████████| 9/9 [00:07<00:00,  1.03it/s]\n",
      "100%|██████████| 9/9 [00:08<00:00,  1.06s/it]\n"
     ]
    }
   ],
   "source": [
    "CV = 20\n",
    "cv_df = pd.DataFrame(index=range(CV * len(models)))\n",
    "#score = 'neg_mean_squared_error'\n",
    "scorings = ['neg_mean_squared_error','neg_mean_absolute_error', 'explained_variance']\n",
    "\n",
    "x = x_train.copy()\n",
    "y = y_train.copy()\n",
    "\n",
    "\n",
    "cv_df = pd.DataFrame()\n",
    "\n",
    "for score in scorings:\n",
    "    entries = []\n",
    "    for model in tqdm(models):\n",
    "\n",
    "        model_name = model.__class__.__name__\n",
    "\n",
    "        accuracies = cross_val_score(model,x, y, scoring = score, cv=CV)\n",
    "\n",
    "        for fold_idx, accuracy in enumerate(accuracies):\n",
    "            entries.append((model_name, fold_idx, accuracy))\n",
    "\n",
    "    _ = pd.DataFrame(entries, columns=['model', 'fold_idx', score])\n",
    "    cv_df[score] = _.groupby('model')[score].agg('mean')"
   ]
  },
  {
   "cell_type": "code",
   "execution_count": 22,
   "metadata": {},
   "outputs": [
    {
     "data": {
      "text/html": [
       "<div>\n",
       "<style scoped>\n",
       "    .dataframe tbody tr th:only-of-type {\n",
       "        vertical-align: middle;\n",
       "    }\n",
       "\n",
       "    .dataframe tbody tr th {\n",
       "        vertical-align: top;\n",
       "    }\n",
       "\n",
       "    .dataframe thead th {\n",
       "        text-align: right;\n",
       "    }\n",
       "</style>\n",
       "<table border=\"1\" class=\"dataframe\">\n",
       "  <thead>\n",
       "    <tr style=\"text-align: right;\">\n",
       "      <th></th>\n",
       "      <th>neg_mean_squared_error</th>\n",
       "      <th>neg_mean_absolute_error</th>\n",
       "      <th>explained_variance</th>\n",
       "    </tr>\n",
       "    <tr>\n",
       "      <th>model</th>\n",
       "      <th></th>\n",
       "      <th></th>\n",
       "      <th></th>\n",
       "    </tr>\n",
       "  </thead>\n",
       "  <tbody>\n",
       "    <tr>\n",
       "      <th>ARDRegression</th>\n",
       "      <td>-6.115519</td>\n",
       "      <td>-1.841157</td>\n",
       "      <td>0.167868</td>\n",
       "    </tr>\n",
       "    <tr>\n",
       "      <th>Ridge</th>\n",
       "      <td>-6.187110</td>\n",
       "      <td>-1.850427</td>\n",
       "      <td>0.144463</td>\n",
       "    </tr>\n",
       "    <tr>\n",
       "      <th>LinearRegression</th>\n",
       "      <td>-6.218388</td>\n",
       "      <td>-1.853848</td>\n",
       "      <td>0.131292</td>\n",
       "    </tr>\n",
       "    <tr>\n",
       "      <th>MLPRegressor</th>\n",
       "      <td>-6.364272</td>\n",
       "      <td>-1.782403</td>\n",
       "      <td>0.120223</td>\n",
       "    </tr>\n",
       "    <tr>\n",
       "      <th>AdaBoostRegressor</th>\n",
       "      <td>-6.385254</td>\n",
       "      <td>-2.040435</td>\n",
       "      <td>0.129775</td>\n",
       "    </tr>\n",
       "    <tr>\n",
       "      <th>GradientBoostingRegressor</th>\n",
       "      <td>-6.665784</td>\n",
       "      <td>-1.869743</td>\n",
       "      <td>-0.003241</td>\n",
       "    </tr>\n",
       "    <tr>\n",
       "      <th>RandomForestRegressor</th>\n",
       "      <td>-6.906544</td>\n",
       "      <td>-1.944464</td>\n",
       "      <td>0.011095</td>\n",
       "    </tr>\n",
       "    <tr>\n",
       "      <th>PassiveAggressiveRegressor</th>\n",
       "      <td>-8.275252</td>\n",
       "      <td>-2.094301</td>\n",
       "      <td>0.122505</td>\n",
       "    </tr>\n",
       "    <tr>\n",
       "      <th>GaussianProcessRegressor</th>\n",
       "      <td>-39.814397</td>\n",
       "      <td>-4.538240</td>\n",
       "      <td>-11.327364</td>\n",
       "    </tr>\n",
       "  </tbody>\n",
       "</table>\n",
       "</div>"
      ],
      "text/plain": [
       "                            neg_mean_squared_error  neg_mean_absolute_error  \\\n",
       "model                                                                         \n",
       "ARDRegression                            -6.115519                -1.841157   \n",
       "Ridge                                    -6.187110                -1.850427   \n",
       "LinearRegression                         -6.218388                -1.853848   \n",
       "MLPRegressor                             -6.364272                -1.782403   \n",
       "AdaBoostRegressor                        -6.385254                -2.040435   \n",
       "GradientBoostingRegressor                -6.665784                -1.869743   \n",
       "RandomForestRegressor                    -6.906544                -1.944464   \n",
       "PassiveAggressiveRegressor               -8.275252                -2.094301   \n",
       "GaussianProcessRegressor                -39.814397                -4.538240   \n",
       "\n",
       "                            explained_variance  \n",
       "model                                           \n",
       "ARDRegression                         0.167868  \n",
       "Ridge                                 0.144463  \n",
       "LinearRegression                      0.131292  \n",
       "MLPRegressor                          0.120223  \n",
       "AdaBoostRegressor                     0.129775  \n",
       "GradientBoostingRegressor            -0.003241  \n",
       "RandomForestRegressor                 0.011095  \n",
       "PassiveAggressiveRegressor            0.122505  \n",
       "GaussianProcessRegressor            -11.327364  "
      ]
     },
     "execution_count": 22,
     "metadata": {},
     "output_type": "execute_result"
    }
   ],
   "source": [
    "cv_df.sort_values(by = 'neg_mean_squared_error', ascending = False)"
   ]
  },
  {
   "cell_type": "code",
   "execution_count": 27,
   "metadata": {},
   "outputs": [
    {
     "data": {
      "image/png": "[encoded data removed]",
      "text/plain": [
       "<Figure size 1080x360 with 1 Axes>"
      ]
     },
     "metadata": {},
     "output_type": "display_data"
    }
   ],
   "source": [
    "plt.figure(figsize = (15,5))\n",
    "ax = sns.boxplot(x='model', y='neg_mean_squared_error', data=_,boxprops=dict(alpha=.8),linewidth=1)\n",
    "\n",
    "sns.stripplot(x='model', y='neg_mean_squared_error', data=_, \n",
    "              size=3, jitter=True, edgecolor=\"black\", linewidth=.5)\n",
    "ax.set_xticklabels(ax.get_xticklabels(), rotation=45, fontsize =12) \n",
    "ax.spines['top'].set_color('none')\n",
    "ax.spines['right'].set_color('none')\n",
    "ax.spines['left'].set_smart_bounds(True)\n",
    "ax.spines['bottom'].set_smart_bounds(True)\n",
    "#plt.title(variable,  fontweight = \"bold\")\n",
    "plt.xlabel('Model',  fontweight = \"bold\")\n",
    "plt.ylabel('Neg Mean Squared Error',  fontweight = \"bold\")\n",
    "plt.show()"
   ]
  },
  {
   "cell_type": "markdown",
   "metadata": {},
   "source": [
    "# Predict Test"
   ]
  },
  {
   "cell_type": "code",
   "execution_count": 28,
   "metadata": {},
   "outputs": [
    {
     "data": {
      "text/plain": [
       "ARDRegression(alpha_1=1e-06, alpha_2=1e-06, compute_score=False, copy_X=True,\n",
       "       fit_intercept=True, lambda_1=1e-06, lambda_2=1e-06, n_iter=300,\n",
       "       normalize=False, threshold_lambda=10000.0, tol=0.001, verbose=False)"
      ]
     },
     "execution_count": 28,
     "metadata": {},
     "output_type": "execute_result"
    }
   ],
   "source": [
    "model = ARDRegression()\n",
    "model.fit(x, y)"
   ]
  },
  {
   "cell_type": "code",
   "execution_count": 29,
   "metadata": {},
   "outputs": [],
   "source": [
    "predictions = model.predict(x_test)"
   ]
  },
  {
   "cell_type": "code",
   "execution_count": 34,
   "metadata": {},
   "outputs": [
    {
     "name": "stdout",
     "output_type": "stream",
     "text": [
      ">>> error: 10.47\n"
     ]
    }
   ],
   "source": [
    "from sklearn.metrics import mean_squared_error\n",
    "test_error = mean_squared_error(y_test, predictions)\n",
    "\n",
    "print('>>> error: {}'.format(np.round(test_error, 2)))"
   ]
  },
  {
   "cell_type": "code",
   "execution_count": 35,
   "metadata": {},
   "outputs": [
    {
     "data": {
      "text/html": [
       "<div>\n",
       "<style scoped>\n",
       "    .dataframe tbody tr th:only-of-type {\n",
       "        vertical-align: middle;\n",
       "    }\n",
       "\n",
       "    .dataframe tbody tr th {\n",
       "        vertical-align: top;\n",
       "    }\n",
       "\n",
       "    .dataframe thead th {\n",
       "        text-align: right;\n",
       "    }\n",
       "</style>\n",
       "<table border=\"1\" class=\"dataframe\">\n",
       "  <thead>\n",
       "    <tr style=\"text-align: right;\">\n",
       "      <th></th>\n",
       "      <th>y_real</th>\n",
       "      <th>y_pred</th>\n",
       "    </tr>\n",
       "  </thead>\n",
       "  <tbody>\n",
       "    <tr>\n",
       "      <th>64</th>\n",
       "      <td>6.7</td>\n",
       "      <td>3.045967</td>\n",
       "    </tr>\n",
       "    <tr>\n",
       "      <th>63</th>\n",
       "      <td>0.7</td>\n",
       "      <td>2.971217</td>\n",
       "    </tr>\n",
       "    <tr>\n",
       "      <th>55</th>\n",
       "      <td>1.2</td>\n",
       "      <td>3.042035</td>\n",
       "    </tr>\n",
       "    <tr>\n",
       "      <th>111</th>\n",
       "      <td>5.8</td>\n",
       "      <td>5.111176</td>\n",
       "    </tr>\n",
       "    <tr>\n",
       "      <th>225</th>\n",
       "      <td>3.3</td>\n",
       "      <td>4.724516</td>\n",
       "    </tr>\n",
       "  </tbody>\n",
       "</table>\n",
       "</div>"
      ],
      "text/plain": [
       "     y_real    y_pred\n",
       "64      6.7  3.045967\n",
       "63      0.7  2.971217\n",
       "55      1.2  3.042035\n",
       "111     5.8  5.111176\n",
       "225     3.3  4.724516"
      ]
     },
     "execution_count": 35,
     "metadata": {},
     "output_type": "execute_result"
    }
   ],
   "source": [
    "predictions_df = pd.DataFrame({'y_real':y_test, 'y_pred': predictions})\n",
    "predictions_df.head()"
   ]
  },
  {
   "cell_type": "code",
   "execution_count": null,
   "metadata": {},
   "outputs": [],
   "source": []
  }
 ],
 "metadata": {
  "kernelspec": {
   "display_name": "Python 3",
   "language": "python",
   "name": "python3"
  },
  "language_info": {
   "codemirror_mode": {
    "name": "ipython",
    "version": 3
   },
   "file_extension": ".py",
   "mimetype": "text/x-python",
   "name": "python",
   "nbconvert_exporter": "python",
   "pygments_lexer": "ipython3",
   "version": "3.6.5"
  }
 },
 "nbformat": 4,
 "nbformat_minor": 2
}
