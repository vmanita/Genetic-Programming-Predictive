{
 "cells": [
  {
   "cell_type": "code",
   "execution_count": 1,
   "metadata": {},
   "outputs": [],
   "source": [
    "import pandas as pd\n",
    "import numpy as np\n",
    "import matplotlib\n",
    "import matplotlib.pyplot as plt\n",
    "import matplotlib.ticker as mtick\n",
    "import seaborn as sns\n",
    "import scipy as sp\n",
    "from sklearn.model_selection import cross_val_score, KFold\n",
    "from sklearn.metrics import mean_squared_error\n",
    "from sklearn.impute import SimpleImputer\n",
    "from sklearn.linear_model import BayesianRidge\n",
    "from sklearn.tree import DecisionTreeRegressor\n",
    "from sklearn.ensemble import ExtraTreesRegressor\n",
    "from sklearn.neighbors import KNeighborsRegressor\n",
    "from sklearn.model_selection import train_test_split\n",
    "from sklearn.metrics import mean_squared_error\n",
    "from scipy import stats\n",
    "from sklearn import model_selection\n",
    "from sklearn.preprocessing import MinMaxScaler\n",
    "from sklearn.linear_model import LinearRegression\n",
    "from sklearn.linear_model import LogisticRegression\n",
    "from sklearn.linear_model import  MultiTaskLasso, Lasso\n",
    "from sklearn.metrics import pairwise_distances_argmin_min\n",
    "from tqdm import tqdm\n",
    "import random\n",
    "from sklearn.cluster import KMeans\n",
    "import warnings\n",
    "warnings.filterwarnings(\"ignore\")"
   ]
  },
  {
   "cell_type": "code",
   "execution_count": 2,
   "metadata": {},
   "outputs": [],
   "source": [
    "data_path=\"/Users/Manita/OneDrive - NOVAIMS/machine learning/Project_02/data/alcohol_children.xlsx\"\n",
    "df=pd.read_excel(data_path, index_col=0)"
   ]
  },
  {
   "cell_type": "code",
   "execution_count": 3,
   "metadata": {},
   "outputs": [],
   "source": [
    "from sklearn.model_selection import train_test_split \n",
    "seed = 0\n",
    "test_size = 0.1\n",
    "target = 'alcopops'\n",
    "df, df_test = train_test_split(df, test_size=test_size, random_state=seed)\n"
   ]
  },
  {
   "cell_type": "code",
   "execution_count": 4,
   "metadata": {},
   "outputs": [
    {
     "name": "stdout",
     "output_type": "stream",
     "text": [
      "Train Nr. obs:\t219\n",
      "Test Nr. obs:\t25\n"
     ]
    }
   ],
   "source": [
    "print('Train Nr. obs:\\t{}'.format(df.shape[0]))\n",
    "print('Test Nr. obs:\\t{}'.format(df_test.shape[0]))"
   ]
  },
  {
   "cell_type": "code",
   "execution_count": 5,
   "metadata": {},
   "outputs": [],
   "source": [
    "#df_numeric = df.select_dtypes(include=['number'])\n",
    "df.drop(columns = ['country','code'], inplace=True)\n",
    "df.dropna(inplace = True)"
   ]
  },
  {
   "cell_type": "code",
   "execution_count": 6,
   "metadata": {},
   "outputs": [],
   "source": [
    "import random\n",
    "\n",
    "def generate_artificial(centroids_df, df_to_clust, percent, scaler,seed):\n",
    "    random.seed(seed)\n",
    "    columns = centroids_df.columns.values\n",
    "    columns = np.append(columns, 'cluster')\n",
    "    artificial_points = pd.DataFrame(columns = columns)\n",
    "    \n",
    "    for j in range(len(centroids_df)):\n",
    "    \n",
    "        rows = int(len(df_to_clust.loc[df_to_clust['cluster_labels'] == j])*percent)\n",
    "\n",
    "        for x in range(rows):\n",
    "\n",
    "            list1 = centroids_df.iloc[j].values\n",
    "            list2 = df_to_clust.loc[df_to_clust['cluster_labels'] == j].iloc[x]\n",
    "            point = []\n",
    "            for i in range(len(list1)):             \n",
    "                point.append(random.uniform(list1[i], list2[i]))\n",
    "            point.append(j)\n",
    "            artificial_points.loc[len(artificial_points)] = point\n",
    "\n",
    "        artificial_points['cluster'] = artificial_points['cluster'].astype(int)\n",
    "        \n",
    "        variables = ['gender', 'year_collect']\n",
    "\n",
    "        for variable in variables:\n",
    "            counter = 0\n",
    "            while counter < len(centroids_df):\n",
    "                mode = stats.mode(df_to_clust.loc[df_to_clust['cluster_labels'] == counter, variable].values)[0]\n",
    "                artificial_points.loc[artificial_points['cluster'] == counter, variable] = mode\n",
    "                counter +=1\n",
    "\n",
    "        artificial_points['gender'] = artificial_points['gender'].astype(int)\n",
    "\n",
    "    df_to_clust.drop(columns = 'cluster_labels',inplace=True)\n",
    "    artificial_points.drop(columns = 'cluster',inplace=True)\n",
    "    \n",
    "    reverse_scaling = pd.DataFrame(scaler.inverse_transform(artificial_points),\n",
    "                                   columns = artificial_points.columns,\n",
    "                                   index = artificial_points.index)\n",
    "        \n",
    "    \n",
    "    artificial_df = artificial_points.drop(columns = 'alcopops')\n",
    "\n",
    "    artificial_df = pd.concat([reverse_scaling['alcopops'],artificial_df], axis = 1)\n",
    "    \n",
    "        \n",
    "    return artificial_df"
   ]
  },
  {
   "cell_type": "code",
   "execution_count": 7,
   "metadata": {},
   "outputs": [],
   "source": [
    "def get_artificial_df(n_clusters, df, percent ,seed):\n",
    "    \n",
    "    df_to_clust = df.copy()\n",
    "    scaler = MinMaxScaler()\n",
    "    df_to_clust = scaler.fit_transform(df_to_clust)\n",
    "    df_to_clust=pd.DataFrame(df_to_clust, columns =  df.columns)\n",
    "    \n",
    "    cluster_range = range(1,n_clusters+1)\n",
    "    cluster_errors = []\n",
    "    sse = {}\n",
    "    for k in cluster_range:\n",
    "        kmeans = KMeans(n_clusters=k, \n",
    "                    random_state=seed,\n",
    "                    n_init = 10,\n",
    "                    max_iter = 300).fit(df_to_clust)\n",
    "        sse[k] = kmeans.inertia_\n",
    "        cluster_errors.append(kmeans.inertia_)\n",
    "\n",
    "    df_to_clust[\"cluster_labels\"] = kmeans.labels_\n",
    "    centroids_df = pd.DataFrame(kmeans.cluster_centers_,columns=df_to_clust.drop(columns = ['cluster_labels']).columns)\n",
    "    \n",
    "    artificial_df = generate_artificial(centroids_df, df_to_clust, percent, scaler ,seed)\n",
    "    \n",
    "    \n",
    "    return artificial_df"
   ]
  },
  {
   "cell_type": "code",
   "execution_count": 27,
   "metadata": {},
   "outputs": [],
   "source": [
    "def artificial_concat(scaled_df, artificial_df):\n",
    "    return pd.concat([scaled_df,artificial_df], axis = 0)"
   ]
  },
  {
   "cell_type": "code",
   "execution_count": 33,
   "metadata": {},
   "outputs": [],
   "source": [
    "# Scale original data\n",
    "scaler = MinMaxScaler()\n",
    "x = scaler.fit_transform(df.drop(columns = target))\n",
    "x = pd.DataFrame(x, columns = df.drop(columns = target).columns, index = df.drop(columns = target).index)\n",
    "y = df[target]\n",
    "\n",
    "scaled_df = pd.concat([y, x], axis = 1)"
   ]
  },
  {
   "cell_type": "code",
   "execution_count": 39,
   "metadata": {},
   "outputs": [],
   "source": [
    "artificial_vs_original = {'original': scaled_df.copy(),\n",
    "                          'art_5c_80prop':artificial_concat(scaled_df, get_artificial_df(5, df, 0.8, seed)),\n",
    "                          'art_10c_80prop':artificial_concat(scaled_df, get_artificial_df(10, df, 0.8, seed)),\n",
    "                          'art_15c_80prop':artificial_concat(scaled_df, get_artificial_df(15, df, 0.8, seed)),\n",
    "                          'art_5c_50prop':artificial_concat(scaled_df, get_artificial_df(5, df, 0.5, seed)),\n",
    "                          'art_10c_50prop':artificial_concat(scaled_df, get_artificial_df(10, df, 0.5, seed)),\n",
    "                          'art_15c_50prop':artificial_concat(scaled_df, get_artificial_df(15, df, 0.5, seed))}"
   ]
  },
  {
   "cell_type": "code",
   "execution_count": 41,
   "metadata": {},
   "outputs": [],
   "source": [
    "CV = 100\n",
    "entries = []\n",
    "l=pd.DataFrame()\n",
    "\n",
    "for key, df_ in artificial_vs_original.items():\n",
    "    x_train = df_.drop(columns = target)\n",
    "    y_train = df_[target]\n",
    "\n",
    "    accuracies = cross_val_score(LinearRegression(), x_train, y_train, scoring='neg_mean_squared_error', cv=CV)\n",
    "\n",
    "    for fold_idx, accuracy in enumerate(accuracies):\n",
    "        entries.append((key, fold_idx, accuracy))"
   ]
  },
  {
   "cell_type": "code",
   "execution_count": 52,
   "metadata": {},
   "outputs": [
    {
     "data": {
      "text/html": [
       "<div>\n",
       "<style scoped>\n",
       "    .dataframe tbody tr th:only-of-type {\n",
       "        vertical-align: middle;\n",
       "    }\n",
       "\n",
       "    .dataframe tbody tr th {\n",
       "        vertical-align: top;\n",
       "    }\n",
       "\n",
       "    .dataframe thead th {\n",
       "        text-align: right;\n",
       "    }\n",
       "</style>\n",
       "<table border=\"1\" class=\"dataframe\">\n",
       "  <thead>\n",
       "    <tr style=\"text-align: right;\">\n",
       "      <th></th>\n",
       "      <th>error</th>\n",
       "    </tr>\n",
       "    <tr>\n",
       "      <th>df</th>\n",
       "      <th></th>\n",
       "    </tr>\n",
       "  </thead>\n",
       "  <tbody>\n",
       "    <tr>\n",
       "      <th>art_5c_80prop</th>\n",
       "      <td>-3.926744</td>\n",
       "    </tr>\n",
       "    <tr>\n",
       "      <th>art_15c_80prop</th>\n",
       "      <td>-4.016251</td>\n",
       "    </tr>\n",
       "    <tr>\n",
       "      <th>art_5c_50prop</th>\n",
       "      <td>-4.223810</td>\n",
       "    </tr>\n",
       "    <tr>\n",
       "      <th>art_10c_80prop</th>\n",
       "      <td>-4.251780</td>\n",
       "    </tr>\n",
       "    <tr>\n",
       "      <th>art_15c_50prop</th>\n",
       "      <td>-4.325935</td>\n",
       "    </tr>\n",
       "    <tr>\n",
       "      <th>art_10c_50prop</th>\n",
       "      <td>-4.530949</td>\n",
       "    </tr>\n",
       "    <tr>\n",
       "      <th>original</th>\n",
       "      <td>-5.935921</td>\n",
       "    </tr>\n",
       "  </tbody>\n",
       "</table>\n",
       "</div>"
      ],
      "text/plain": [
       "                   error\n",
       "df                      \n",
       "art_5c_80prop  -3.926744\n",
       "art_15c_80prop -4.016251\n",
       "art_5c_50prop  -4.223810\n",
       "art_10c_80prop -4.251780\n",
       "art_15c_50prop -4.325935\n",
       "art_10c_50prop -4.530949\n",
       "original       -5.935921"
      ]
     },
     "execution_count": 52,
     "metadata": {},
     "output_type": "execute_result"
    }
   ],
   "source": [
    "df_pred = pd.DataFrame(entries, columns=['df', 'fold_idx', 'error'])\n",
    "df_pred_grouped = pd.DataFrame(df_pred.groupby('df')['error'].agg('mean'))\n",
    "df_pred_grouped.sort_values(by = 'error', ascending = False, inplace = True)\n",
    "df_pred_grouped"
   ]
  },
  {
   "cell_type": "code",
   "execution_count": 53,
   "metadata": {
    "scrolled": true
   },
   "outputs": [
    {
     "data": {
      "image/png": "[encoded data removed]",
      "text/plain": [
       "<Figure size 1080x504 with 1 Axes>"
      ]
     },
     "metadata": {},
     "output_type": "display_data"
    }
   ],
   "source": [
    "plt.figure(figsize = (15,7))\n",
    "ax = sns.boxplot(x='df', y='error', data=df_pred,boxprops=dict(alpha=.8),linewidth=1, width = 0.3)\n",
    "sns.stripplot(x='df', y='error', data=df_pred, \n",
    "              size=2, jitter=True, edgecolor=\"black\", linewidth=.5)\n",
    "ax.set_xticklabels(ax.get_xticklabels(), rotation=360, fontsize =12) \n",
    "ax.spines['top'].set_color('none')\n",
    "ax.spines['right'].set_color('none')\n",
    "ax.spines['left'].set_smart_bounds(True)\n",
    "ax.spines['bottom'].set_smart_bounds(True)\n",
    "plt.title('Df Prediction Benchmark',  fontweight = \"bold\")\n",
    "plt.xlabel('DFs',  fontweight = \"bold\")\n",
    "plt.ylabel('Neg Mean Squared Error',  fontweight = \"bold\")\n",
    "plt.show()"
   ]
  },
  {
   "cell_type": "code",
   "execution_count": null,
   "metadata": {},
   "outputs": [],
   "source": []
  },
  {
   "cell_type": "code",
   "execution_count": null,
   "metadata": {},
   "outputs": [],
   "source": []
  }
 ],
 "metadata": {
  "kernelspec": {
   "display_name": "Python 3",
   "language": "python",
   "name": "python3"
  },
  "language_info": {
   "codemirror_mode": {
    "name": "ipython",
    "version": 3
   },
   "file_extension": ".py",
   "mimetype": "text/x-python",
   "name": "python",
   "nbconvert_exporter": "python",
   "pygments_lexer": "ipython3",
   "version": "3.6.5"
  }
 },
 "nbformat": 4,
 "nbformat_minor": 2
}
